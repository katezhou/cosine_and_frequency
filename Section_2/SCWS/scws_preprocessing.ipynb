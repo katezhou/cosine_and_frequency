{
 "cells": [
  {
   "cell_type": "code",
   "execution_count": 1,
   "id": "baae77eb",
   "metadata": {},
   "outputs": [],
   "source": [
    "import pandas as pd\n",
    "import sys\n",
    "\n",
    "#Path to utils\n",
    "sys.path.insert(1, '/juice/scr/katezhou/Semantic_Distortions')\n",
    "from utils.create_embeddings.creating_word_embeddings import *"
   ]
  },
  {
   "cell_type": "code",
   "execution_count": 4,
   "id": "d0983e66",
   "metadata": {},
   "outputs": [
    {
     "name": "stdout",
     "output_type": "stream",
     "text": [
      "2003\n"
     ]
    },
    {
     "name": "stderr",
     "output_type": "stream",
     "text": [
      "/tmp/ipykernel_383572/2609174024.py:7: ParserWarning: Falling back to the 'python' engine because the 'c' engine does not support regex separators (separators > 1 char and different from '\\s+' are interpreted as regex); you can avoid this warning by specifying engine='python'.\n",
      "  data = pd.read_csv(\"ratings.txt\", sep='\\t+', header=None)\n"
     ]
    }
   ],
   "source": [
    "# Cleaning up SCWS data (removing <b> which surround the key word and remove extra spaces)\n",
    "def prep_data(full_data, column_name):\n",
    "    full_data[column_name] = full_data[column_name].apply(lambda x: x.replace(\" </b>\", \"\").replace(\"<b> \", \"\"))\n",
    "    full_data[column_name] = full_data[column_name].apply(lambda x: re.sub(' +', ' ', x))\n",
    "    return full_data\n",
    "\n",
    "data = pd.read_csv(\"ratings.txt\", sep='\\t+', header=None)\n",
    "data.columns = ['id', 'word1', 'POS_word1', 'word2', 'POS_word2', 'word1_context', 'word2_context', 'average_rating', 0, 1, 2, 3, 4, 5, 6, 7, 8, 9]\n",
    "\n",
    "full_data = data[['id', 'word1', 'word1_context', 'word2', 'word2_context']]\n",
    "full_data1 = prep_data(full_data[['id', 'word1', 'word1_context']], 'word1_context').reset_index()\n",
    "full_data1.columns = ['index', 'id', 'keyword', 'sentence']\n",
    "full_data2 = prep_data(full_data[['id', 'word2', 'word2_context']], 'word2_context').reset_index()\n",
    "full_data2.columns = ['index', 'id', 'keyword', 'sentence']\n",
    "print(len(full_data1))\n"
   ]
  },
  {
   "cell_type": "code",
   "execution_count": null,
   "id": "c37aa7e5",
   "metadata": {},
   "outputs": [],
   "source": [
    "create_embeddings('scsw_sentences1_embeddings.csv', full_data1)\n",
    "create_embeddings('scsw_sentences2_embeddings.csv', full_data2)"
   ]
  },
  {
   "cell_type": "code",
   "execution_count": null,
   "id": "1fdd1fe5",
   "metadata": {},
   "outputs": [],
   "source": []
  }
 ],
 "metadata": {
  "kernelspec": {
   "display_name": "Python 3",
   "language": "python",
   "name": "python3"
  },
  "language_info": {
   "codemirror_mode": {
    "name": "ipython",
    "version": 3
   },
   "file_extension": ".py",
   "mimetype": "text/x-python",
   "name": "python",
   "nbconvert_exporter": "python",
   "pygments_lexer": "ipython3",
   "version": "3.8.12"
  }
 },
 "nbformat": 4,
 "nbformat_minor": 5
}
