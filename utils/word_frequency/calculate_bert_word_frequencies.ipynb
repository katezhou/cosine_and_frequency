{
 "cells": [
  {
   "cell_type": "code",
   "execution_count": 5,
   "id": "a332e3d1",
   "metadata": {},
   "outputs": [],
   "source": [
    "import pandas as pd\n",
    "\n",
    "#read in frequency data\n",
    "wiki_freq = pd.read_csv(\"wiki_frequency.txt\", header=None, sep = ' ')\n",
    "wiki_freq.columns = ['wiki_word', 'wiki_count']\n",
    "\n",
    "book_corpus_frequency = pd.read_csv(\"book_corpus_frequency.csv\")\n",
    "book_corpus_frequency.columns = ['bookcorpus_word', 'bookcorpus_count']\n",
    "\n",
    "freq = wiki_freq.set_index('wiki_word').join(book_corpus_frequency.set_index(\"bookcorpus_word\"), how='outer')\n",
    "freq = freq.reset_index()\n",
    "#3,249,043 to 3,249,035, eight \"NaN\" entries are dropped\n",
    "freq = freq.dropna(subset=['index'])\n",
    "#fill remaining \"NaN\" entries with zeros as it means Wiki or BookCorpus did not have counts\n",
    "freq = freq.fillna(0)\n",
    "\n",
    "freq['freq'] = freq['wiki_count'] + freq['bookcorpus_count']\n",
    "freq.to_csv(\"bert_word_frequencies.csv\", index=False)"
   ]
  }
 ],
 "metadata": {
  "kernelspec": {
   "display_name": "Python 3",
   "language": "python",
   "name": "python3"
  },
  "language_info": {
   "codemirror_mode": {
    "name": "ipython",
    "version": 3
   },
   "file_extension": ".py",
   "mimetype": "text/x-python",
   "name": "python",
   "nbconvert_exporter": "python",
   "pygments_lexer": "ipython3",
   "version": "3.8.12"
  }
 },
 "nbformat": 4,
 "nbformat_minor": 5
}
