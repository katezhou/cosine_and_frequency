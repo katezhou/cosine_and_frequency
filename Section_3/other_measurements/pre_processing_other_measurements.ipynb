{
 "cells": [
  {
   "cell_type": "code",
   "execution_count": 1,
   "id": "d159e804",
   "metadata": {},
   "outputs": [
    {
     "name": "stdout",
     "output_type": "stream",
     "text": [
      "393775\n"
     ]
    }
   ],
   "source": [
    "import pandas as pd\n",
    "from collections import Counter\n",
    "import random\n",
    "import miniball\n",
    "import pandas as pd\n",
    "import numpy as np\n",
    "\n",
    "def test():\n",
    "    data = pd.read_csv(\"../30k_random_words_embeddings_final.csv\", header=None)\n",
    "    print(len(data))\n",
    "    sample_words = random.sample(set(data[1537].unique()), 10000)\n",
    "    data = data[data[1537].isin(set(sample_words))]\n",
    "    word_embeddings = data[list(range(0, 768)) + [1536, 1537]]\n",
    "    word_embeddings.to_csv(\"other_measurements_sample.csv\")\n",
    "test()"
   ]
  },
  {
   "cell_type": "code",
   "execution_count": null,
   "id": "e5192b8c",
   "metadata": {},
   "outputs": [],
   "source": []
  }
 ],
 "metadata": {
  "kernelspec": {
   "display_name": "Python 3",
   "language": "python",
   "name": "python3"
  },
  "language_info": {
   "codemirror_mode": {
    "name": "ipython",
    "version": 3
   },
   "file_extension": ".py",
   "mimetype": "text/x-python",
   "name": "python",
   "nbconvert_exporter": "python",
   "pygments_lexer": "ipython3",
   "version": "3.8.12"
  }
 },
 "nbformat": 4,
 "nbformat_minor": 5
}
