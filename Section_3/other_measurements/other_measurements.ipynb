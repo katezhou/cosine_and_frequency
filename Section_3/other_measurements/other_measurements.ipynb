{
 "cells": [
  {
   "cell_type": "code",
   "execution_count": 1,
   "metadata": {},
   "outputs": [],
   "source": [
    "import pandas as pd\n",
    "from collections import Counter\n",
    "import random\n",
    "import miniball\n",
    "import pandas as pd\n",
    "import numpy as np\n",
    "from scipy.spatial import ConvexHull, convex_hull_plot_2d\n"
   ]
  },
  {
   "cell_type": "markdown",
   "metadata": {},
   "source": [
    "# Miniball calculations"
   ]
  },
  {
   "cell_type": "code",
   "execution_count": 2,
   "metadata": {},
   "outputs": [],
   "source": [
    "def get_data():\n",
    "    data = pd.read_csv(\"other_measurements_sample.csv\")\n",
    "    data = data[[str(x) for x in list(range(0, 768))] +['1536','1537']]\n",
    "    data.columns = list(range(0, 768)) + [1536,1537]\n",
    "    return data"
   ]
  },
  {
   "cell_type": "code",
   "execution_count": 3,
   "metadata": {},
   "outputs": [],
   "source": [
    "freq = pd.read_csv(\"../../utils/word_frequency/bert_word_frequencies.csv\")\n"
   ]
  },
  {
   "cell_type": "code",
   "execution_count": 4,
   "metadata": {},
   "outputs": [],
   "source": [
    "WORD_INDEX = 1537"
   ]
  },
  {
   "cell_type": "markdown",
   "metadata": {},
   "source": [
    "# Norms"
   ]
  },
  {
   "cell_type": "code",
   "execution_count": 5,
   "metadata": {},
   "outputs": [],
   "source": [
    "import pandas as pd\n",
    "og_context = get_data()"
   ]
  },
  {
   "cell_type": "code",
   "execution_count": 6,
   "metadata": {},
   "outputs": [],
   "source": [
    "import numpy as np\n",
    "og_context['norm'] =  np.sqrt(np.square(og_context[range(0, 768)]).sum(axis=1))\n",
    "og_context = og_context.groupby(1537).mean()\n",
    "og_context = og_context.reset_index()\n"
   ]
  },
  {
   "cell_type": "code",
   "execution_count": 7,
   "metadata": {},
   "outputs": [
    {
     "data": {
      "text/html": [
       "<div>\n",
       "<style scoped>\n",
       "    .dataframe tbody tr th:only-of-type {\n",
       "        vertical-align: middle;\n",
       "    }\n",
       "\n",
       "    .dataframe tbody tr th {\n",
       "        vertical-align: top;\n",
       "    }\n",
       "\n",
       "    .dataframe thead th {\n",
       "        text-align: right;\n",
       "    }\n",
       "</style>\n",
       "<table border=\"1\" class=\"dataframe\">\n",
       "  <thead>\n",
       "    <tr style=\"text-align: right;\">\n",
       "      <th></th>\n",
       "      <th>freq_logged</th>\n",
       "      <th>norm</th>\n",
       "    </tr>\n",
       "  </thead>\n",
       "  <tbody>\n",
       "    <tr>\n",
       "      <th>freq_logged</th>\n",
       "      <td>1.000000</td>\n",
       "      <td>0.677716</td>\n",
       "    </tr>\n",
       "    <tr>\n",
       "      <th>norm</th>\n",
       "      <td>0.677716</td>\n",
       "      <td>1.000000</td>\n",
       "    </tr>\n",
       "  </tbody>\n",
       "</table>\n",
       "</div>"
      ],
      "text/plain": [
       "             freq_logged      norm\n",
       "freq_logged     1.000000  0.677716\n",
       "norm            0.677716  1.000000"
      ]
     },
     "execution_count": 7,
     "metadata": {},
     "output_type": "execute_result"
    },
    {
     "data": {
      "image/png": "[encoded data removed]",
      "text/plain": [
       "<Figure size 432x288 with 1 Axes>"
      ]
     },
     "metadata": {
      "needs_background": "light"
     },
     "output_type": "display_data"
    }
   ],
   "source": [
    "og_context = og_context.set_index(1537).join(freq.set_index('index'), how='inner')\n",
    "og_context = og_context.dropna()\n",
    "og_context.plot(x='freq', y='norm', kind='scatter', logx=True)\n",
    "\n",
    "og_context['freq_logged'] = np.log(og_context['freq'])\n",
    "og_context[['freq_logged', 'norm']].corr('pearson')"
   ]
  },
  {
   "cell_type": "code",
   "execution_count": 8,
   "metadata": {
    "scrolled": true
   },
   "outputs": [
    {
     "name": "stdout",
     "output_type": "stream",
     "text": [
      "(0.6777156976637131, 0.0)\n"
     ]
    }
   ],
   "source": [
    "import scipy.stats\n",
    "#checking pvalues\n",
    "print(scipy.stats.pearsonr(og_context['freq_logged'].values, og_context['norm'].values))"
   ]
  },
  {
   "cell_type": "markdown",
   "metadata": {},
   "source": [
    "# Checking variance"
   ]
  },
  {
   "cell_type": "code",
   "execution_count": 17,
   "metadata": {},
   "outputs": [],
   "source": [
    "from scipy.spatial import distance\n",
    "#checking frequency by variance from centroid\n",
    "\n",
    "# og_context = get_data()\n",
    "# centroids = og_context.groupby(1537).mean().reset_index()\n",
    "# distances = pd.DataFrame()\n",
    "# for n, row in centroids.iterrows():\n",
    "#     temp = og_context[og_context[1537] == row[1537]]\n",
    "#     for m, row2 in temp.iterrows():\n",
    "#         distance_value = distance.euclidean(row2[list(range(0, 768))], row[list(range(0, 768))])\n",
    "#         distances = pd.concat([distances, pd.DataFrame([[row[1537], distance_value]])])\n",
    "#     print(row[1537])\n",
    "# distances.columns = ['keyword', 'distance_from_centroid']"
   ]
  },
  {
   "cell_type": "code",
   "execution_count": 34,
   "metadata": {},
   "outputs": [],
   "source": [
    "distances = pd.read_csv(\"other_measurement_distances.csv\")"
   ]
  },
  {
   "cell_type": "code",
   "execution_count": 47,
   "metadata": {},
   "outputs": [],
   "source": [
    "def variance_measurements(distances):\n",
    "    variance = distances.groupby('keyword').var().reset_index()\n",
    "    mean = distances.groupby('keyword').mean().reset_index()\n",
    "    max_value = distances.groupby('keyword').max().reset_index()\n",
    "    \n",
    "    for measurement in [mean, max_value, variance]:\n",
    "        measurement = measurement.set_index('keyword').join(freq.set_index('index'), how='inner', rsuffix='_r').reset_index()\n",
    "\n",
    "#         measurement.plot(x='freq', y='distance_from_centroid', kind='scatter', logx=True)\n",
    "        measurement['freq_logged'] = np.log(measurement['freq'])\n",
    "        print(scipy.stats.pearsonr(measurement['freq_logged'].values, measurement['distance_from_centroid'].values))"
   ]
  },
  {
   "cell_type": "code",
   "execution_count": 48,
   "metadata": {},
   "outputs": [
    {
     "name": "stdout",
     "output_type": "stream",
     "text": [
      "(0.6013568690589307, 0.0)\n",
      "(0.5836680939767583, 0.0)\n",
      "(0.29165674989268375, 2.68925497311233e-195)\n"
     ]
    }
   ],
   "source": [
    "variance_measurements(distances)"
   ]
  },
  {
   "cell_type": "markdown",
   "metadata": {},
   "source": [
    "# Convex Hull"
   ]
  },
  {
   "cell_type": "code",
   "execution_count": 12,
   "metadata": {},
   "outputs": [
    {
     "name": "stdout",
     "output_type": "stream",
     "text": [
      "(0.6027283537103696, 0.0)\n"
     ]
    },
    {
     "data": {
      "image/png": "[encoded data removed]",
      "text/plain": [
       "<Figure size 432x288 with 1 Axes>"
      ]
     },
     "metadata": {
      "needs_background": "light"
     },
     "output_type": "display_data"
    }
   ],
   "source": [
    "from sklearn.decomposition import PCA\n",
    "from scipy.spatial import ConvexHull, convex_hull_plot_2d\n",
    "pca = PCA(n_components=2)\n",
    "hulls = []\n",
    "for n, group in og_context.groupby(1537):\n",
    "    principalComponents = pca.fit_transform(group[list(range(0, 768))])\n",
    "    hulls.append(ConvexHull(principalComponents).area)\n",
    "\n",
    "hull_df = og_context.groupby(1537).mean().reset_index()\n",
    "hull_df['hull'] = hulls\n",
    "hull_df = hull_df.set_index(1537).join(freq.set_index('index'), how='inner', rsuffix='_r')\n",
    "hull_df.plot(x='freq', y='hull', kind='scatter', logx=True)\n",
    "hull_df['freq_logged'] = np.log(hull_df['freq'])\n",
    "hull_df[['freq_logged', 'hull']].corr('pearson')\n",
    "print(scipy.stats.pearsonr(hull_df['freq_logged'].values, hull_df['hull'].values))"
   ]
  }
 ],
 "metadata": {
  "kernelspec": {
   "display_name": "Python 3",
   "language": "python",
   "name": "python3"
  },
  "language_info": {
   "codemirror_mode": {
    "name": "ipython",
    "version": 3
   },
   "file_extension": ".py",
   "mimetype": "text/x-python",
   "name": "python",
   "nbconvert_exporter": "python",
   "pygments_lexer": "ipython3",
   "version": "3.8.12"
  }
 },
 "nbformat": 4,
 "nbformat_minor": 2
}
