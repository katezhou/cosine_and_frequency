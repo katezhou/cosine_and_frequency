{
 "cells": [
  {
   "cell_type": "code",
   "execution_count": 3,
   "metadata": {},
   "outputs": [],
   "source": [
    "import pandas as pd\n",
    "from scipy.spatial import distance\n",
    "import math\n",
    "import sys\n",
    "import nltk\n",
    "from nltk.corpus import wordnet as wn\n",
    "import numpy as np\n",
    "import miniball"
   ]
  },
  {
   "cell_type": "code",
   "execution_count": 4,
   "metadata": {},
   "outputs": [],
   "source": [
    "freq = pd.read_csv(\"../utils/word_frequency/bert_word_frequencies.csv\")"
   ]
  },
  {
   "cell_type": "code",
   "execution_count": 9,
   "metadata": {},
   "outputs": [],
   "source": [
    "WORD_INDEX = 1537\n",
    "def create_miniballs(input_filename, output_filename):\n",
    "    \n",
    "    data = pd.read_csv(input_filename, header=None)\n",
    "    all_word_embeddings = data[list(range(0, 768)) + [1536, 1537]]\n",
    "    \n",
    "    #drop duplicate word embeddings\n",
    "    all_word_embeddings = all_word_embeddings.drop_duplicates(keep='first', subset=list(range(0, 768))).sample(frac=1)\n",
    "    \n",
    "    #creating convex hulls or miniballs\n",
    "    all_word_embeddings = all_word_embeddings.groupby(WORD_INDEX)\n",
    "    result = pd.DataFrame()\n",
    "    for name, group in all_word_embeddings:\n",
    "        n = 768\n",
    "\n",
    "        current = np.delete(group.values, n, 1)\n",
    "        current = np.delete(current, n, 1)\n",
    "        #just take a sample of ten\n",
    "        current = current[:10]\n",
    "        C, r2 = miniball.get_bounding_ball(np.array(current, dtype='float'))\n",
    "      \n",
    "        result = pd.concat([result, pd.DataFrame([[name, r2]])])\n",
    "        print(name, r2)\n",
    "\n",
    "    result.columns=['keyword', 'r2']\n",
    "\n",
    "    #Join with word frequency data\n",
    "    result = result.set_index('keyword').join(freq.set_index('index'), how='outer')\n",
    "    result = result.dropna()\n",
    "    result.to_csv(output_filename)\n"
   ]
  },
  {
   "cell_type": "code",
   "execution_count": 10,
   "metadata": {},
   "outputs": [],
   "source": [
    "create_miniballs(\"wic_embeddings_wikipedia_corpus.csv\", \"wic_bounding_balls.csv\")"
   ]
  },
  {
   "cell_type": "code",
   "execution_count": 11,
   "metadata": {},
   "outputs": [],
   "source": [
    "create_miniballs(\"30k_random_words_embeddings_final.csv\", \"30k_random_words_bounding_balls.csv\")"
   ]
  },
  {
   "cell_type": "code",
   "execution_count": null,
   "metadata": {},
   "outputs": [],
   "source": []
  }
 ],
 "metadata": {
  "kernelspec": {
   "display_name": "Python 3",
   "language": "python",
   "name": "python3"
  },
  "language_info": {
   "codemirror_mode": {
    "name": "ipython",
    "version": 3
   },
   "file_extension": ".py",
   "mimetype": "text/x-python",
   "name": "python",
   "nbconvert_exporter": "python",
   "pygments_lexer": "ipython3",
   "version": "3.8.12"
  }
 },
 "nbformat": 4,
 "nbformat_minor": 2
}
